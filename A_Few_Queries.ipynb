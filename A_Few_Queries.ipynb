{
 "cells": [
  {
   "cell_type": "code",
   "execution_count": 13,
   "metadata": {},
   "outputs": [
    {
     "name": "stdout",
     "output_type": "stream",
     "text": [
      "Done\n"
     ]
    }
   ],
   "source": [
    "# The following script has to be run in CMD or Terminal \n",
    "# Change the DB name and Collection name to match your own. \n",
    "# -> mongoimport --drop --db [TwitterDB_Connection] --collection [tweets] --type csv --file training.1600000.processed.noemoticon.csv --fields \"polarity,id,date,query,user,text\" \n",
    "\n",
    "# Import pymongo to connect to MongoDB via. Robo 3T\n",
    "import pprint\n",
    "import json \n",
    "import pymongo\n",
    "from pymongo import MongoClient\n",
    "client = MongoClient(\"mongodb://localhost:27017\")\n",
    "db = client.TwitterDB_Connection #Paste own DB to test queries =)\n",
    "tweets = db.tweets\n",
    "print(\"Done\")"
   ]
  },
  {
   "cell_type": "code",
   "execution_count": 10,
   "metadata": {},
   "outputs": [
    {
     "name": "stdout",
     "output_type": "stream",
     "text": [
      "659774\n"
     ]
    }
   ],
   "source": [
    "#Question 1: \n",
    "# How many Twitter users are in the database? \n",
    "db.tweets.distinct(\"user\") \n",
    "print(len(tweets.distinct(\"user\")))"
   ]
  },
  {
   "cell_type": "code",
   "execution_count": 35,
   "metadata": {},
   "outputs": [
    {
     "name": "stdout",
     "output_type": "stream",
     "text": [
      "{'_id': 'lost_dog', 'l': 549}\n",
      "{'_id': 'tweetpet', 'l': 310}\n",
      "{'_id': 'VioletsCRUK', 'l': 251}\n",
      "{'_id': 'what_bugs_u', 'l': 246}\n",
      "{'_id': 'tsarnick', 'l': 245}\n",
      "{'_id': 'SallytheShizzle', 'l': 229}\n",
      "{'_id': 'mcraddictal', 'l': 217}\n",
      "{'_id': 'Karen230683', 'l': 216}\n",
      "{'_id': 'keza34', 'l': 211}\n",
      "{'_id': 'TraceyHewins', 'l': 202}\n"
     ]
    }
   ],
   "source": [
    "#Question 2: Twitter user that links the most to other Twitter users.\n",
    "# Kaspers solution didn't work, so had to re-write, lol. \n",
    "ppall(tweets.aggregate([\n",
    "        {'$match':{'text':{'$regex':'@\\w+'}}},\n",
    "        {'$group':{'_id':'$user',\"l\":{'$sum':1}}},\n",
    "        {'$sort':{\"l\": -1}},\n",
    "        {'$limit': 10},\n",
    "    ]))"
   ]
  }
 ],
 "metadata": {
  "kernelspec": {
   "display_name": "Python 3",
   "language": "python",
   "name": "python3"
  },
  "language_info": {
   "codemirror_mode": {
    "name": "ipython",
    "version": 3
   },
   "file_extension": ".py",
   "mimetype": "text/x-python",
   "name": "python",
   "nbconvert_exporter": "python",
   "pygments_lexer": "ipython3",
   "version": "3.6.8"
  }
 },
 "nbformat": 4,
 "nbformat_minor": 2
}
